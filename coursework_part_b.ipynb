{
 "cells": [
  {
   "cell_type": "code",
   "execution_count": 1,
   "metadata": {},
   "outputs": [],
   "source": [
    "#Taken from Scikit\n",
    "\n",
    "import matplotlib.pyplot as plt\n",
    "import pandas\n",
    "from sklearn.linear_model import LogisticRegression\n",
    "from sklearn import datasets, svm\n",
    "from sklearn.metrics import classification_report, accuracy_score\n",
    "from sklearn.inspection import DecisionBoundaryDisplay\n",
    "from sklearn.svm import LinearSVC\n",
    "from sklearn.model_selection import train_test_split\n",
    "from sklearn.decomposition import PCA\n",
    "from sklearn.preprocessing import StandardScaler\n",
    "from sklearn.pipeline import Pipeline\n",
    "from sklearn.model_selection import GridSearchCV\n",
    "import numpy as np\n",
    "from sklearn.ensemble import RandomForestClassifier\n",
    "from sklearn.metrics import precision_score, recall_score, f1_score"
   ]
  },
  {
   "cell_type": "code",
   "execution_count": 14,
   "metadata": {},
   "outputs": [],
   "source": [
    "\n",
    "# import some data from a predefined datatset\n",
    "iris = datasets.load_iris()\n",
    "\n",
    "train = pandas.read_csv('TrainingDataMulti.csv')\n",
    "test = pandas.read_csv('TestingDataMulti.csv')\n",
    "\n",
    "features = 128\n",
    "y = train['marker']\n",
    "x = train.iloc[:, :features]\n",
    "\n",
    "# Split dataset into training set and test set\n",
    "X_train, X_test, y_train, y_test = train_test_split(x, y, test_size=0.3) # 70% training and 30% test\n"
   ]
  },
  {
   "cell_type": "code",
   "execution_count": 15,
   "metadata": {},
   "outputs": [
    {
     "name": "stdout",
     "output_type": "stream",
     "text": [
      "Best parameters:  {'forest__n_estimators': 200, 'pca__n_components': 30}\n",
      "Classification Report:\n",
      "              precision    recall  f1-score   support\n",
      "\n",
      "           0       0.94      0.97      0.96       894\n",
      "           1       0.83      0.85      0.84       421\n",
      "           2       0.88      0.81      0.84       485\n",
      "\n",
      "    accuracy                           0.90      1800\n",
      "   macro avg       0.88      0.88      0.88      1800\n",
      "weighted avg       0.90      0.90      0.90      1800\n",
      "\n"
     ]
    }
   ],
   "source": [
    "forest = RandomForestClassifier()\n",
    "pca = PCA()\n",
    "# Define a Standard Scaler to normalize inputs\n",
    "scaler = StandardScaler()\n",
    "# Define a pipeline to search for the best combination of PCA truncation\n",
    "# and classifier regularization.\n",
    "pipe = Pipeline(steps=[(\"scaler\", scaler), (\"pca\", pca), (\"forest\", forest)])\n",
    "\n",
    "param_grid = {\n",
    "    \"pca__n_components\": [5, 15, 30, 45, 60, 80, 100],\n",
    "    \"forest__n_estimators\": [50, 100, 150, 200],\n",
    "}\n",
    "\n",
    "search = GridSearchCV(pipe, param_grid, n_jobs=2,cv=5)\n",
    "search.fit(X_train, y_train)\n",
    "\n",
    "search_pred = search.predict(X_test)\n",
    "\n",
    "print(\"Best parameters: \",search.best_params_)\n",
    "\n",
    "# Assuming y_true contains the true labels and y_pred contains the predicted labels\n",
    "report = classification_report(y_test, search_pred)\n",
    "print(\"Classification Report:\")\n",
    "print(report)"
   ]
  },
  {
   "cell_type": "code",
   "execution_count": 16,
   "metadata": {},
   "outputs": [
    {
     "name": "stdout",
     "output_type": "stream",
     "text": [
      "Accuracy:  0.9005555555555556\n",
      "[2 1 1 2 2 2 1 1 2 2 2 1 1 2 2 2 2 1 2 2 2 1 0 0 0 0 0 2 2 0 0 0 0 1 1 1 1\n",
      " 1 1 1 1 2 2 2 1 0 0 1 2 1 1 1 1 2 2 2 2 1 1 1 1 1 1 1 1 1 0 0 0 0 0 0 0 0\n",
      " 0 0 0 0 0 0 0 0 1 0 2 2 1 1 1 1 1 0 0 0 0 0 0 0 0 0]\n",
      "(100, 128) (100,)\n"
     ]
    }
   ],
   "source": [
    "# logreg = LogisticRegression(max_iter=100000, C=search.best_params_['logistic__C'])\n",
    "# pca = PCA(n_components=search.best_params_['pca__n_components'])\n",
    "# # Define a Standard Scaler to normalize inputs\n",
    "# scaler = StandardScaler()\n",
    "# # Define a pipeline to search for the best combination of PCA truncation\n",
    "# # and classifier regularization.\n",
    "# pipe = Pipeline(steps=[(\"scaler\", scaler), (\"pca\", pca), (\"logistic\", logreg)])\n",
    "# pipe.fit(X_train, y_train)\n",
    "print(\"Accuracy: \",accuracy_score(y_test, search_pred))\n",
    "test_pred = search.predict(test)\n",
    "print(test_pred)\n",
    "print(test.shape, test_pred.shape)\n"
   ]
  },
  {
   "cell_type": "code",
   "execution_count": 17,
   "metadata": {},
   "outputs": [],
   "source": [
    "# Append predicted labels to test dataset\n",
    "op = test.assign(marker=test_pred)\n",
    "\n",
    "# Output csv file\n",
    "op.to_csv('TestingResultsMulti.csv', index=False)"
   ]
  },
  {
   "cell_type": "code",
   "execution_count": null,
   "metadata": {},
   "outputs": [],
   "source": [
    "# Assuming y_true contains the true labels and y_pred contains the predicted labels\n",
    "precision = precision_score(y_test, search_pred, average='macro')\n",
    "recall = recall_score(y_test, search_pred, average='macro')\n",
    "f1 = f1_score(y_test, search_pred, average='macro')"
   ]
  }
 ],
 "metadata": {
  "kernelspec": {
   "display_name": "Python 3",
   "language": "python",
   "name": "python3"
  },
  "language_info": {
   "codemirror_mode": {
    "name": "ipython",
    "version": 3
   },
   "file_extension": ".py",
   "mimetype": "text/x-python",
   "name": "python",
   "nbconvert_exporter": "python",
   "pygments_lexer": "ipython3",
   "version": "3.11.3"
  },
  "orig_nbformat": 4
 },
 "nbformat": 4,
 "nbformat_minor": 2
}
