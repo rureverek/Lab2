{
 "cells": [
  {
   "cell_type": "code",
   "execution_count": 3,
   "metadata": {},
   "outputs": [],
   "source": [
    "# Import\n",
    "import pandas\n",
    "from sklearn import datasets\n",
    "from sklearn.model_selection import train_test_split\n",
    "from sklearn.decomposition import PCA\n",
    "from sklearn.preprocessing import StandardScaler\n",
    "from sklearn.pipeline import Pipeline\n",
    "from sklearn.model_selection import GridSearchCV\n",
    "from sklearn.ensemble import RandomForestClassifier\n",
    "from sklearn.metrics import precision_score, recall_score, f1_score, accuracy_score"
   ]
  },
  {
   "cell_type": "code",
   "execution_count": 4,
   "metadata": {},
   "outputs": [],
   "source": [
    "\n",
    "# import some data from a predefined datatset\n",
    "iris = datasets.load_iris()\n",
    "\n",
    "train = pandas.read_csv('TrainingDataMulti.csv')\n",
    "test = pandas.read_csv('TestingDataMulti.csv')\n",
    "\n",
    "features = 128\n",
    "\n",
    "# Labels vector\n",
    "y = train['marker']\n",
    "\n",
    "# Features vector\n",
    "x = train.iloc[:, :features]\n",
    "\n",
    "# Split dataset into training set and test set\n",
    "X_train, X_test, y_train, y_test = train_test_split(x, y, test_size=0.3) # 70% training and 30% test\n"
   ]
  },
  {
   "cell_type": "code",
   "execution_count": 6,
   "metadata": {},
   "outputs": [
    {
     "name": "stdout",
     "output_type": "stream",
     "text": [
      "Best parameters:  {'forest__n_estimators': 100, 'pca__n_components': 30}\n",
      "Classification Report:\n",
      "              precision    recall  f1-score   support\n",
      "\n",
      "           0       0.96      0.96      0.96       906\n",
      "           1       0.83      0.81      0.82       478\n",
      "           2       0.79      0.81      0.80       416\n",
      "\n",
      "    accuracy                           0.89      1800\n",
      "   macro avg       0.86      0.86      0.86      1800\n",
      "weighted avg       0.89      0.89      0.89      1800\n",
      "\n"
     ]
    }
   ],
   "source": [
    "# Define a Classifier\n",
    "forest = RandomForestClassifier()\n",
    "\n",
    "#Define a Principal component analysis\n",
    "pca = PCA()\n",
    "\n",
    "# Define a Standard Scaler to normalize inputs\n",
    "scaler = StandardScaler()\n",
    "\n",
    "# Define a pipeline to search for the best combination of PCA truncation\n",
    "# and classifier regularization.\n",
    "pipe = Pipeline(steps=[(\"scaler\", scaler), (\"pca\", pca), (\"forest\", forest)])\n",
    "\n",
    "# Define set of parameters to GridSearch\n",
    "param_grid = {\n",
    "    \"pca__n_components\": [5, 15, 30, 45, 60, 80, 100],\n",
    "    \"forest__n_estimators\": [50, 100, 150, 200],\n",
    "}\n",
    "\n",
    "# Find best hyperparameters\n",
    "search = GridSearchCV(pipe, param_grid, n_jobs=2,cv=5)\n",
    "search.fit(X_train, y_train)\n",
    "\n",
    "# Predict trained dataset's labels\n",
    "search_pred = search.predict(X_test)\n",
    "\n",
    "# Print hyperparameters\n",
    "print(\"Best parameters: \",search.best_params_)\n",
    "\n",
    "# Evaluate the model\n",
    "accuracy = accuracy_score(y_test, search_pred)\n",
    "precision = precision_score(y_test, search_pred, average='macro')\n",
    "recall = recall_score(y_test, search_pred, average='macro')\n",
    "f1 = f1_score(y_test, search_pred, average='macro')\n",
    "print(\"Accuracy: \", accuracy)\n",
    "print(\"Precision: \",precision)\n",
    "print(\"Recall: \", recall)\n",
    "print(\"F1: \", f1)"
   ]
  },
  {
   "cell_type": "code",
   "execution_count": 10,
   "metadata": {},
   "outputs": [
    {
     "name": "stdout",
     "output_type": "stream",
     "text": [
      "Accuracy:  0.885\n",
      "[2 2 2 1 1 2 1 1 2 2 2 1 1 1 1 1 2 1 1 1 1 1 1 2 2 1 0 0 0 0 0 0 0 1 1 1 1\n",
      " 1 1 2 2 2 2 2 1 1 1 2 1 1 1 1 1 2 2 2 2 1 1 1 1 1 1 1 1 1 0 0 0 0 0 0 0 0\n",
      " 0 0 0 0 0 0 0 0 0 0 2 2 2 1 1 1 1 0 0 0 0 0 0 0 0 0]\n",
      "(100, 128) (100,)\n"
     ]
    }
   ],
   "source": [
    "# Use model to predict unlabelled dataset\n",
    "test_pred = search.predict(test)\n",
    "print(test_pred)\n",
    "print(test.shape, test_pred.shape)\n"
   ]
  },
  {
   "cell_type": "code",
   "execution_count": 11,
   "metadata": {},
   "outputs": [],
   "source": [
    "# Append predicted labels to test dataset\n",
    "op = test.assign(marker=test_pred)\n",
    "\n",
    "# Output csv file\n",
    "op.to_csv('TestingResultsMulti.csv', index=False)"
   ]
  }
 ],
 "metadata": {
  "kernelspec": {
   "display_name": "Python 3",
   "language": "python",
   "name": "python3"
  },
  "language_info": {
   "codemirror_mode": {
    "name": "ipython",
    "version": 3
   },
   "file_extension": ".py",
   "mimetype": "text/x-python",
   "name": "python",
   "nbconvert_exporter": "python",
   "pygments_lexer": "ipython3",
   "version": "3.11.3"
  },
  "orig_nbformat": 4
 },
 "nbformat": 4,
 "nbformat_minor": 2
}
