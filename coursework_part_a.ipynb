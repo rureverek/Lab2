{
 "cells": [
  {
   "cell_type": "code",
   "execution_count": 1,
   "metadata": {},
   "outputs": [],
   "source": [
    "#Taken from Scikit\n",
    "\n",
    "import pandas\n",
    "from sklearn.linear_model import LogisticRegression\n",
    "from sklearn import datasets\n",
    "from sklearn.metrics import accuracy_score, precision_score, recall_score, f1_score\n",
    "from sklearn.model_selection import train_test_split\n",
    "from sklearn.decomposition import PCA\n",
    "from sklearn.preprocessing import StandardScaler\n",
    "from sklearn.pipeline import Pipeline\n",
    "from sklearn.model_selection import GridSearchCV\n",
    "import numpy as np\n"
   ]
  },
  {
   "cell_type": "code",
   "execution_count": 2,
   "metadata": {},
   "outputs": [],
   "source": [
    "# import some data from a predefined datatset\n",
    "iris = datasets.load_iris()\n",
    "\n",
    "train = pandas.read_csv('TrainingDataBinary.csv')\n",
    "test = pandas.read_csv('TestingDataBinary.csv')\n",
    "\n",
    "features = 128\n",
    "\n",
    "# Labels vector \n",
    "y = train['marker']\n",
    "\n",
    "#Features vector\n",
    "x = train.iloc[:, :features]\n",
    "\n",
    "# Split dataset into training set and test set\n",
    "X_train, X_test, y_train, y_test = train_test_split(x, y, test_size=0.3) # 70% training and 30% test\n"
   ]
  },
  {
   "cell_type": "code",
   "execution_count": 3,
   "metadata": {},
   "outputs": [
    {
     "name": "stdout",
     "output_type": "stream",
     "text": [
      "Best parameters:  {'logistic__C': 10.0, 'pca__n_components': 100}\n",
      "Accuracy:  0.8961111111111111\n",
      "Precision: 0.9233449477351916\n",
      "Recall: 0.8679039301310044\n",
      "F1 score: 0.8947664603263927\n"
     ]
    }
   ],
   "source": [
    "# Define a Classifier\n",
    "logreg = LogisticRegression(max_iter=100000)\n",
    "\n",
    "# Define a Principal component analysis\n",
    "pca = PCA()\n",
    "\n",
    "# Define a Standard Scaler to normalize inputs\n",
    "scaler = StandardScaler()\n",
    "\n",
    "# Define a pipeline to search for the best combination of PCA truncation\n",
    "# and classifier regularization.\n",
    "pipe = Pipeline(steps=[(\"scaler\", scaler), (\"pca\", pca), (\"logistic\", logreg)])\n",
    "\n",
    "# Define set of parameters to GridSearch\n",
    "param_grid = {\n",
    "    \"pca__n_components\": [5, 15, 30, 45, 60, 80, 100],\n",
    "    \"logistic__C\": np.logspace(-1, 1, 10),\n",
    "}\n",
    "\n",
    "# Do GridSearch to find most optimal hyperparameters\n",
    "search = GridSearchCV(pipe, param_grid, n_jobs=2,cv=5)\n",
    "\n",
    "# Fit the model in train dataset\n",
    "search.fit(X_train, y_train)\n",
    "\n",
    "# Predict train labels\n",
    "search_pred = search.predict(X_test)\n",
    "\n",
    "# Print best hyperparameters found\n",
    "print(\"Best parameters: \",search.best_params_)\n",
    "\n",
    "# Evaluate the performance of the model\n",
    "print(\"Accuracy: \",accuracy_score(y_test, search_pred))\n",
    "\n",
    "# Calculate precision\n",
    "precision = precision_score(y_test, search_pred)\n",
    "print(\"Precision:\", precision)\n",
    "\n",
    "# Calculate recall\n",
    "recall = recall_score(y_test, search_pred)\n",
    "print(\"Recall:\", recall)\n",
    "\n",
    "# Calculate F1 score\n",
    "f1 = f1_score(y_test, search_pred)\n",
    "print(\"F1 score:\", f1)"
   ]
  },
  {
   "cell_type": "code",
   "execution_count": 4,
   "metadata": {},
   "outputs": [
    {
     "name": "stdout",
     "output_type": "stream",
     "text": [
      "[1 1 1 1 1 1 1 1 1 1 1 1 1 1 1 1 1 1 1 1 1 1 1 1 1 1 1 1 1 1 1 1 1 1 1 1 0\n",
      " 0 0 1 1 1 0 1 1 1 1 1 0 1 0 0 0 1 0 0 0 0 0 0 0 0 0 0 0 0 0 1 1 1 1 1 1 1\n",
      " 1 0 0 0 0 0 0 0 0 0 0 0 0 0 0 0 0 0 0 0 0 0 0 0 0 0]\n",
      "(100, 128) (100,)\n"
     ]
    }
   ],
   "source": [
    "# Use the model to predict unlabelled data.\n",
    "test_pred = search.predict(test)\n",
    "print(test_pred)\n",
    "print(test.shape, test_pred.shape)\n"
   ]
  },
  {
   "cell_type": "code",
   "execution_count": 5,
   "metadata": {},
   "outputs": [],
   "source": [
    "# Append predicted labels to test dataset\n",
    "op = test.assign(marker=test_pred)\n",
    "\n",
    "# Output csv file\n",
    "op.to_csv('TestingResultsBinary.csv', index=False)"
   ]
  }
 ],
 "metadata": {
  "kernelspec": {
   "display_name": "Python 3",
   "language": "python",
   "name": "python3"
  },
  "language_info": {
   "codemirror_mode": {
    "name": "ipython",
    "version": 3
   },
   "file_extension": ".py",
   "mimetype": "text/x-python",
   "name": "python",
   "nbconvert_exporter": "python",
   "pygments_lexer": "ipython3",
   "version": "3.11.3"
  },
  "orig_nbformat": 4
 },
 "nbformat": 4,
 "nbformat_minor": 2
}
